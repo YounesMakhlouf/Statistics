{
 "cells": [
  {
   "metadata": {},
   "cell_type": "markdown",
   "source": [
    "# Linear Regression Analysis of Cigarette Data\n",
    "\n",
    "This notebook performs a linear regression analysis on cigarette data. The analysis includes:\n",
    "\n",
    "1. Loading and preparing the data.\n",
    "2. Building a regression model with multiple predictors.\n",
    "3. Computing and interpreting the model coefficients.\n",
    "4. Performing an ANOVA to evaluate the significance of the regression model.\n",
    "5. Evaluating the model fit with the coefficient of determination (R²).\n",
    "6. Analyzing the correlation between predictor variables.\n",
    "7. Building a reduced regression model with fewer predictors and comparing it with the original model."
   ],
   "id": "d0ac08975b96b953"
  },
  {
   "metadata": {
    "ExecuteTime": {
     "end_time": "2024-06-08T09:11:08.729666Z",
     "start_time": "2024-06-08T09:11:08.726602Z"
    }
   },
   "cell_type": "code",
   "source": [
    "# Import necessary libraries\n",
    "import numpy as np\n",
    "import pandas as pd\n",
    "from scipy.stats import f"
   ],
   "id": "73b31e0625694c1",
   "outputs": [],
   "execution_count": 73
  },
  {
   "metadata": {},
   "cell_type": "markdown",
   "source": [
    "## 1. Loading and Preparing the Data\n",
    "\n",
    "We start by loading the data from an Excel file and selecting the relevant columns. The columns are renamed for simplicity."
   ],
   "id": "653d75d9f1a0eb20"
  },
  {
   "metadata": {
    "ExecuteTime": {
     "end_time": "2024-06-08T09:11:08.773587Z",
     "start_time": "2024-06-08T09:11:08.757383Z"
    }
   },
   "cell_type": "code",
   "source": [
    "# Load the data\n",
    "file_path = 'TutorialCigarette.xlsx'\n",
    "df = pd.read_excel(file_path, header=1, sheet_name=\"Feuil1\", usecols=['Tar (mg)', 'Nicotine (mg)', 'Weight (g)', 'Carbon Monoxide(mg)'])\n",
    "\n",
    "# Renaming the columns to simplify\n",
    "df.rename(columns={'Tar (mg)': 'tar', 'Nicotine (mg)': 'nicotine', 'Weight (g)': 'weight', 'Carbon Monoxide(mg)': 'carbon_monoxide'}, inplace=True)\n",
    "\n",
    "# Display the first few rows of the data\n",
    "df.head()"
   ],
   "id": "f2a451eb7908d514",
   "outputs": [
    {
     "data": {
      "text/plain": [
       "    tar  nicotine  weight  carbon_monoxide\n",
       "0  14.1      0.86  0.9853             13.6\n",
       "1  16.0      1.06  1.0938             16.6\n",
       "2  29.8      2.03  1.1650             23.5\n",
       "3   8.0      0.67  0.9280             10.2\n",
       "4   4.1      0.40  0.9462              5.4"
      ],
      "text/html": [
       "<div>\n",
       "<style scoped>\n",
       "    .dataframe tbody tr th:only-of-type {\n",
       "        vertical-align: middle;\n",
       "    }\n",
       "\n",
       "    .dataframe tbody tr th {\n",
       "        vertical-align: top;\n",
       "    }\n",
       "\n",
       "    .dataframe thead th {\n",
       "        text-align: right;\n",
       "    }\n",
       "</style>\n",
       "<table border=\"1\" class=\"dataframe\">\n",
       "  <thead>\n",
       "    <tr style=\"text-align: right;\">\n",
       "      <th></th>\n",
       "      <th>tar</th>\n",
       "      <th>nicotine</th>\n",
       "      <th>weight</th>\n",
       "      <th>carbon_monoxide</th>\n",
       "    </tr>\n",
       "  </thead>\n",
       "  <tbody>\n",
       "    <tr>\n",
       "      <th>0</th>\n",
       "      <td>14.1</td>\n",
       "      <td>0.86</td>\n",
       "      <td>0.9853</td>\n",
       "      <td>13.6</td>\n",
       "    </tr>\n",
       "    <tr>\n",
       "      <th>1</th>\n",
       "      <td>16.0</td>\n",
       "      <td>1.06</td>\n",
       "      <td>1.0938</td>\n",
       "      <td>16.6</td>\n",
       "    </tr>\n",
       "    <tr>\n",
       "      <th>2</th>\n",
       "      <td>29.8</td>\n",
       "      <td>2.03</td>\n",
       "      <td>1.1650</td>\n",
       "      <td>23.5</td>\n",
       "    </tr>\n",
       "    <tr>\n",
       "      <th>3</th>\n",
       "      <td>8.0</td>\n",
       "      <td>0.67</td>\n",
       "      <td>0.9280</td>\n",
       "      <td>10.2</td>\n",
       "    </tr>\n",
       "    <tr>\n",
       "      <th>4</th>\n",
       "      <td>4.1</td>\n",
       "      <td>0.40</td>\n",
       "      <td>0.9462</td>\n",
       "      <td>5.4</td>\n",
       "    </tr>\n",
       "  </tbody>\n",
       "</table>\n",
       "</div>"
      ]
     },
     "execution_count": 74,
     "metadata": {},
     "output_type": "execute_result"
    }
   ],
   "execution_count": 74
  },
  {
   "metadata": {},
   "cell_type": "markdown",
   "source": [
    "## 2. Building the Regression Model\n",
    "\n",
    "We'll select the predictor variables and add an intercept. Then we'll fit the regression model using linear algebra."
   ],
   "id": "135b44596607ff84"
  },
  {
   "metadata": {
    "ExecuteTime": {
     "end_time": "2024-06-08T09:11:08.782280Z",
     "start_time": "2024-06-08T09:11:08.774594Z"
    }
   },
   "cell_type": "code",
   "source": [
    "# Selecting the predictor variables\n",
    "X = df[['weight', 'tar', 'nicotine']]\n",
    "\n",
    "# Adding a column of ones to account for the intercept (β4)\n",
    "X['intercept'] = 1\n",
    "X = X[['intercept', 'weight', 'tar', 'nicotine']]\n",
    "\n",
    "# Converting the DataFrame to a NumPy array for later matrix operations\n",
    "X_matrix = X.values\n",
    "y = df['carbon_monoxide'].values\n",
    "\n",
    "# Calculating the regression coefficients using the normal equation\n",
    "X_transpose = X.T\n",
    "beta = np.linalg.inv(X_transpose.dot(X)).dot(X_transpose).dot(y)\n",
    "beta"
   ],
   "id": "1defe22eea1e3b5d",
   "outputs": [
    {
     "data": {
      "text/plain": [
       "array([ 3.20219002, -0.13048185,  0.96257386, -2.63166111])"
      ]
     },
     "execution_count": 75,
     "metadata": {},
     "output_type": "execute_result"
    }
   ],
   "execution_count": 75
  },
  {
   "metadata": {},
   "cell_type": "markdown",
   "source": [
    "## 3. Making Predictions\n",
    "\n",
    "We'll use the model coefficients to predict the values of the response variable."
   ],
   "id": "775f0d02a24b14b4"
  },
  {
   "metadata": {
    "ExecuteTime": {
     "end_time": "2024-06-08T09:11:08.790231Z",
     "start_time": "2024-06-08T09:11:08.782280Z"
    }
   },
   "cell_type": "code",
   "source": [
    "# Predicting values of y based on the regression model\n",
    "y_pred = X.dot(beta)\n",
    "y_pred"
   ],
   "id": "d4d1b6bc918a6b3d",
   "outputs": [
    {
     "data": {
      "text/plain": [
       "0     14.382689\n",
       "1     15.671090\n",
       "2     26.392608\n",
       "3      9.018481\n",
       "4      5.972616\n",
       "5     14.787937\n",
       "6      9.538812\n",
       "7     12.517658\n",
       "8     16.111168\n",
       "9     14.744665\n",
       "10    13.605650\n",
       "11    15.247003\n",
       "12     9.083587\n",
       "13    11.976175\n",
       "14     9.806794\n",
       "15     3.720207\n",
       "16    16.130192\n",
       "17    12.545305\n",
       "18    15.759552\n",
       "19     6.309658\n",
       "20    14.370138\n",
       "21     8.495715\n",
       "22     9.538003\n",
       "23    15.025113\n",
       "24    12.449183\n",
       "dtype: float64"
      ]
     },
     "execution_count": 76,
     "metadata": {},
     "output_type": "execute_result"
    }
   ],
   "execution_count": 76
  },
  {
   "metadata": {},
   "cell_type": "markdown",
   "source": [
    "## 4. Performing ANOVA\n",
    "\n",
    "We compute the Sum of Squares for Total (SST), Regression (SSR), and Error (SSE). Then we calculate the F-statistic and the corresponding p-value. Finally, we construct the ANOVA table.\n"
   ],
   "id": "1a8c4207144a1a44"
  },
  {
   "metadata": {
    "ExecuteTime": {
     "end_time": "2024-06-08T09:11:08.803191Z",
     "start_time": "2024-06-08T09:11:08.791407Z"
    }
   },
   "cell_type": "code",
   "source": [
    "# Given values\n",
    "n = len(y)  # Number of observations\n",
    "p = X.shape[1] - 1  # Number of predictors, excluding the intercept\n",
    "\n",
    "# Computing SST, SSR, and SSE\n",
    "SST = np.sum((y - np.mean(y)) ** 2)\n",
    "SSR = np.sum((y_pred - np.mean(y)) ** 2)\n",
    "SSE = np.sum((y - y_pred) ** 2)\n",
    "\n",
    "# Calculating the degrees of freedom\n",
    "dfR = p\n",
    "dfE = n - p - 1\n",
    "dfT = n - 1\n",
    "\n",
    "# Mean Squares\n",
    "MSR = SSR / dfR\n",
    "MSE = SSE / dfE\n",
    "\n",
    "# F-statistic\n",
    "F = MSR / MSE\n",
    "P_value = f.sf(F, dfR, dfE)  # This computes the p-value for the F-statistic\n",
    "\n",
    "# Constructing the ANOVA table\n",
    "anova_table = pd.DataFrame({\n",
    "    \"Source\": [\"Regression\", \"Residual\", \"Total\"],\n",
    "    \"Sum of Squares\": [SSR, SSE, SST],\n",
    "    \"df\": [dfR, dfE, dfT],\n",
    "    \"Mean Square\": [MSR, MSE, np.nan],\n",
    "    \"F\": [F, np.nan, np.nan],\n",
    "    \"P-value\": [P_value, np.nan, np.nan]\n",
    "})\n",
    "\n",
    "anova_table"
   ],
   "id": "5682e458050ba88b",
   "outputs": [
    {
     "data": {
      "text/plain": [
       "       Source  Sum of Squares  df  Mean Square          F       P-value\n",
       "0  Regression      495.257814   3   165.085938  78.983834  1.328810e-11\n",
       "1    Residual       43.892586  21     2.090123        NaN           NaN\n",
       "2       Total      539.150400  24          NaN        NaN           NaN"
      ],
      "text/html": [
       "<div>\n",
       "<style scoped>\n",
       "    .dataframe tbody tr th:only-of-type {\n",
       "        vertical-align: middle;\n",
       "    }\n",
       "\n",
       "    .dataframe tbody tr th {\n",
       "        vertical-align: top;\n",
       "    }\n",
       "\n",
       "    .dataframe thead th {\n",
       "        text-align: right;\n",
       "    }\n",
       "</style>\n",
       "<table border=\"1\" class=\"dataframe\">\n",
       "  <thead>\n",
       "    <tr style=\"text-align: right;\">\n",
       "      <th></th>\n",
       "      <th>Source</th>\n",
       "      <th>Sum of Squares</th>\n",
       "      <th>df</th>\n",
       "      <th>Mean Square</th>\n",
       "      <th>F</th>\n",
       "      <th>P-value</th>\n",
       "    </tr>\n",
       "  </thead>\n",
       "  <tbody>\n",
       "    <tr>\n",
       "      <th>0</th>\n",
       "      <td>Regression</td>\n",
       "      <td>495.257814</td>\n",
       "      <td>3</td>\n",
       "      <td>165.085938</td>\n",
       "      <td>78.983834</td>\n",
       "      <td>1.328810e-11</td>\n",
       "    </tr>\n",
       "    <tr>\n",
       "      <th>1</th>\n",
       "      <td>Residual</td>\n",
       "      <td>43.892586</td>\n",
       "      <td>21</td>\n",
       "      <td>2.090123</td>\n",
       "      <td>NaN</td>\n",
       "      <td>NaN</td>\n",
       "    </tr>\n",
       "    <tr>\n",
       "      <th>2</th>\n",
       "      <td>Total</td>\n",
       "      <td>539.150400</td>\n",
       "      <td>24</td>\n",
       "      <td>NaN</td>\n",
       "      <td>NaN</td>\n",
       "      <td>NaN</td>\n",
       "    </tr>\n",
       "  </tbody>\n",
       "</table>\n",
       "</div>"
      ]
     },
     "execution_count": 77,
     "metadata": {},
     "output_type": "execute_result"
    }
   ],
   "execution_count": 77
  },
  {
   "metadata": {},
   "cell_type": "markdown",
   "source": [
    "## 5. Model Evaluation\n",
    "\n",
    "We'll compute the coefficient of determination (R²) to evaluate the goodness of fit of the model.\n"
   ],
   "id": "96b24b98d31e17e3"
  },
  {
   "metadata": {
    "ExecuteTime": {
     "end_time": "2024-06-08T09:11:08.811720Z",
     "start_time": "2024-06-08T09:11:08.803191Z"
    }
   },
   "cell_type": "code",
   "source": [
    "# Coefficient of determination (R²)\n",
    "R_squared = 1 - (SSE / SST)\n",
    "R_squared"
   ],
   "id": "87d09a0c06b9c774",
   "outputs": [
    {
     "data": {
      "text/plain": [
       "np.float64(0.9185893479475058)"
      ]
     },
     "execution_count": 78,
     "metadata": {},
     "output_type": "execute_result"
    }
   ],
   "execution_count": 78
  },
  {
   "metadata": {},
   "cell_type": "markdown",
   "source": [
    "## 6. Correlation Analysis\n",
    "\n",
    "We'll compute and display the correlation matrix for the predictor variables.\n"
   ],
   "id": "89d6393d099c2cb6"
  },
  {
   "metadata": {
    "ExecuteTime": {
     "end_time": "2024-06-08T09:11:08.822296Z",
     "start_time": "2024-06-08T09:11:08.812731Z"
    }
   },
   "cell_type": "code",
   "source": [
    "# Compute the correlation matrix\n",
    "predictors = df[['weight', 'tar', 'nicotine']]\n",
    "correlation_matrix = predictors.corr()\n",
    "\n",
    "correlation_matrix"
   ],
   "id": "2b0977f51792851e",
   "outputs": [
    {
     "data": {
      "text/plain": [
       "            weight       tar  nicotine\n",
       "weight    1.000000  0.490765  0.500183\n",
       "tar       0.490765  1.000000  0.976608\n",
       "nicotine  0.500183  0.976608  1.000000"
      ],
      "text/html": [
       "<div>\n",
       "<style scoped>\n",
       "    .dataframe tbody tr th:only-of-type {\n",
       "        vertical-align: middle;\n",
       "    }\n",
       "\n",
       "    .dataframe tbody tr th {\n",
       "        vertical-align: top;\n",
       "    }\n",
       "\n",
       "    .dataframe thead th {\n",
       "        text-align: right;\n",
       "    }\n",
       "</style>\n",
       "<table border=\"1\" class=\"dataframe\">\n",
       "  <thead>\n",
       "    <tr style=\"text-align: right;\">\n",
       "      <th></th>\n",
       "      <th>weight</th>\n",
       "      <th>tar</th>\n",
       "      <th>nicotine</th>\n",
       "    </tr>\n",
       "  </thead>\n",
       "  <tbody>\n",
       "    <tr>\n",
       "      <th>weight</th>\n",
       "      <td>1.000000</td>\n",
       "      <td>0.490765</td>\n",
       "      <td>0.500183</td>\n",
       "    </tr>\n",
       "    <tr>\n",
       "      <th>tar</th>\n",
       "      <td>0.490765</td>\n",
       "      <td>1.000000</td>\n",
       "      <td>0.976608</td>\n",
       "    </tr>\n",
       "    <tr>\n",
       "      <th>nicotine</th>\n",
       "      <td>0.500183</td>\n",
       "      <td>0.976608</td>\n",
       "      <td>1.000000</td>\n",
       "    </tr>\n",
       "  </tbody>\n",
       "</table>\n",
       "</div>"
      ]
     },
     "execution_count": 79,
     "metadata": {},
     "output_type": "execute_result"
    }
   ],
   "execution_count": 79
  },
  {
   "metadata": {},
   "cell_type": "markdown",
   "source": [
    "## 7. Building a Reduced Model\n",
    "\n",
    "We'll create a reduced model using only `weight` and `tar` as predictors, and perform similar analysis as with the full model.\n"
   ],
   "id": "b99b5e5e7360c420"
  },
  {
   "metadata": {
    "ExecuteTime": {
     "end_time": "2024-06-08T09:11:08.837647Z",
     "start_time": "2024-06-08T09:11:08.823304Z"
    }
   },
   "cell_type": "code",
   "source": [
    "# Selecting the predictors for the reduced model and the response variable\n",
    "X_reduced = df[['weight', 'tar']].copy()\n",
    "X_reduced.loc[:, 'intercept'] = 1  # Adding the intercept term\n",
    "\n",
    "# Converting to a NumPy array for matrix operations\n",
    "X_reduced = X_reduced[['intercept', 'weight', 'tar']].values\n",
    "\n",
    "# Reusing the dependent variable\n",
    "y = df['carbon_monoxide'].values\n",
    "\n",
    "# Calculating the regression coefficients for the reduced model\n",
    "beta_reduced = np.linalg.inv(X_reduced.T.dot(X_reduced)).dot(X_reduced.T).dot(y)\n",
    "\n",
    "# Predicting values for the reduced model\n",
    "y_pred_reduced = X_reduced.dot(beta_reduced)\n",
    "\n",
    "# Calculating sums of squares for the reduced model\n",
    "SST_reduced = np.sum((y - np.mean(y)) ** 2)\n",
    "SSR_reduced = np.sum((y_pred_reduced - np.mean(y)) ** 2)\n",
    "SSE_reduced = np.sum((y - y_pred_reduced) ** 2)\n",
    "\n",
    "# Degrees of freedom for the reduced model\n",
    "n = len(y)\n",
    "p_reduced = 2  # Number of predictors in the reduced model\n",
    "dfR_reduced = p_reduced\n",
    "dfE_reduced = n - p_reduced - 1\n",
    "dfT_reduced = n - 1\n",
    "\n",
    "# Mean Squares for the reduced model\n",
    "MSR_reduced = SSR_reduced / dfR_reduced\n",
    "MSE_reduced = SSE_reduced / dfE_reduced\n",
    "\n",
    "# F-statistic for the reduced model\n",
    "F_reduced = MSR_reduced / MSE_reduced\n",
    "\n",
    "# P-value for the F-statistic of the reduced model\n",
    "P_value_reduced = f.sf(F_reduced, dfR_reduced, dfE_reduced)\n",
    "\n",
    "# ANOVA Table for the reduced model\n",
    "anova_table_reduced = pd.DataFrame({\n",
    "    \"Source\": [\"Regression\", \"Residual\", \"Total\"],\n",
    "    \"Sum of Squares\": [SSR_reduced, SSE_reduced, SST_reduced],\n",
    "    \"df\": [dfR_reduced, dfE_reduced, dfT_reduced],\n",
    "    \"Mean Square\": [MSR_reduced, MSE_reduced, np.nan],\n",
    "    \"F\": [F_reduced, np.nan, np.nan],\n",
    "    \"P-value\": [P_value_reduced, np.nan, np.nan]\n",
    "})\n",
    "\n",
    "anova_table_reduced"
   ],
   "id": "cbc7fbc2e6e44cd2",
   "outputs": [
    {
     "data": {
      "text/plain": [
       "       Source  Sum of Squares  df  Mean Square           F       P-value\n",
       "0  Regression      494.306381   2   247.153190  121.250733  1.318076e-12\n",
       "1    Residual       44.844019  22     2.038365         NaN           NaN\n",
       "2       Total      539.150400  24          NaN         NaN           NaN"
      ],
      "text/html": [
       "<div>\n",
       "<style scoped>\n",
       "    .dataframe tbody tr th:only-of-type {\n",
       "        vertical-align: middle;\n",
       "    }\n",
       "\n",
       "    .dataframe tbody tr th {\n",
       "        vertical-align: top;\n",
       "    }\n",
       "\n",
       "    .dataframe thead th {\n",
       "        text-align: right;\n",
       "    }\n",
       "</style>\n",
       "<table border=\"1\" class=\"dataframe\">\n",
       "  <thead>\n",
       "    <tr style=\"text-align: right;\">\n",
       "      <th></th>\n",
       "      <th>Source</th>\n",
       "      <th>Sum of Squares</th>\n",
       "      <th>df</th>\n",
       "      <th>Mean Square</th>\n",
       "      <th>F</th>\n",
       "      <th>P-value</th>\n",
       "    </tr>\n",
       "  </thead>\n",
       "  <tbody>\n",
       "    <tr>\n",
       "      <th>0</th>\n",
       "      <td>Regression</td>\n",
       "      <td>494.306381</td>\n",
       "      <td>2</td>\n",
       "      <td>247.153190</td>\n",
       "      <td>121.250733</td>\n",
       "      <td>1.318076e-12</td>\n",
       "    </tr>\n",
       "    <tr>\n",
       "      <th>1</th>\n",
       "      <td>Residual</td>\n",
       "      <td>44.844019</td>\n",
       "      <td>22</td>\n",
       "      <td>2.038365</td>\n",
       "      <td>NaN</td>\n",
       "      <td>NaN</td>\n",
       "    </tr>\n",
       "    <tr>\n",
       "      <th>2</th>\n",
       "      <td>Total</td>\n",
       "      <td>539.150400</td>\n",
       "      <td>24</td>\n",
       "      <td>NaN</td>\n",
       "      <td>NaN</td>\n",
       "      <td>NaN</td>\n",
       "    </tr>\n",
       "  </tbody>\n",
       "</table>\n",
       "</div>"
      ]
     },
     "execution_count": 80,
     "metadata": {},
     "output_type": "execute_result"
    }
   ],
   "execution_count": 80
  }
 ],
 "metadata": {
  "kernelspec": {
   "display_name": "Python 3",
   "language": "python",
   "name": "python3"
  },
  "language_info": {
   "codemirror_mode": {
    "name": "ipython",
    "version": 2
   },
   "file_extension": ".py",
   "mimetype": "text/x-python",
   "name": "python",
   "nbconvert_exporter": "python",
   "pygments_lexer": "ipython2",
   "version": "2.7.6"
  }
 },
 "nbformat": 4,
 "nbformat_minor": 5
}
